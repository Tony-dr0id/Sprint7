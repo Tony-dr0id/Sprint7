{
 "cells": [
  {
   "cell_type": "code",
   "execution_count": 1,
   "id": "14284f2a",
   "metadata": {},
   "outputs": [],
   "source": [
    "# Celda 1: Importar librerías\n",
    "import pandas as pd\n",
    "import plotly.express as px\n",
    "import plotly.graph_objects as go\n",
    "from plotly.subplots import make_subplots"
   ]
  },
  {
   "cell_type": "code",
   "execution_count": 2,
   "id": "32a866a6",
   "metadata": {},
   "outputs": [],
   "source": [
    "# Celda 2: Cargar dataset\n",
    "df = pd.read_csv('../vehicles_us.csv')  # Ruta relativa desde notebooks/\n",
    "df['model_year'] = df['model_year'].astype('Int64')\n",
    "df['price'] = df['price'].astype(float)\n",
    "df['odometer'] = df['odometer'].astype(float)\n",
    "df['cylinders'] = df['cylinders'].astype('Int64')\n",
    "df['is_4wd'] = df['is_4wd'].astype('Int64')\n",
    "df['date_posted'] = pd.to_datetime(df['date_posted'], errors='coerce')\n",
    "\n",
    "# Mostrar información básica\n",
    "print(\"Forma del dataset:\", df.shape)\n",
    "print(\"\\nColumnas:\", df.columns.tolist())\n",
    "print(\"\\nPrimeras 5 filas:\")\n",
    "display(df.head())\n",
    "print(\"\\nInformación general:\")\n",
    "df.info()"
   ]
  },
  {
   "cell_type": "code",
   "execution_count": null,
   "id": "0fcfbfd2",
   "metadata": {},
   "outputs": [],
   "source": [
    "# Celda 3: Estadísticas descriptivas\n",
    "print(\"\\nEstadísticas descriptivas:\")\n",
    "display(df.describe())"
   ]
  },
  {
   "cell_type": "code",
   "execution_count": null,
   "id": "6e6ec800",
   "metadata": {},
   "outputs": [],
   "source": [
    "# Celda 4: Porcentaje de valores nulos\n",
    "print(\"\\nPorcentaje de valores nulos por columna:\")\n",
    "nulls = (df.isna().sum() / len(df) * 100).round(2)\n",
    "display(nulls)"
   ]
  },
  {
   "cell_type": "code",
   "execution_count": null,
   "id": "b02fe6dc",
   "metadata": {},
   "outputs": [],
   "source": [
    "# Celda 5: Gráfico 1 - Dispersión: Precio vs. Kilometraje por Año\n",
    "df_plot = df.dropna(subset=['price', 'odometer', 'model_year'])\n",
    "fig1 = px.scatter(\n",
    "    df_plot,\n",
    "    x=\"odometer\",\n",
    "    y=\"price\",\n",
    "    color=\"model_year\",\n",
    "    title=\"Precio vs. Kilometraje (Coloreado por Año)\",\n",
    "    labels={\"odometer\": \"Kilometraje (millas)\", \"price\": \"Precio (USD)\", \"model_year\": \"Año\"},\n",
    "    hover_data=[\"model\", \"condition\"]\n",
    ")\n",
    "fig1.show()\n",
    "\n",
    "# Celda 6: Gráfico 2 - Histograma: Distribución de Precios por Combustible\n",
    "fig2 = px.histogram(\n",
    "    df,\n",
    "    x=\"price\",\n",
    "    color=\"fuel\",\n",
    "    title=\"Distribución de Precios por Tipo de Combustible\",\n",
    "    labels={\"price\": \"Precio (USD)\", \"fuel\": \"Combustible\"},\n",
    "    nbins=50\n",
    ")\n",
    "fig2.show()"
   ]
  },
  {
   "cell_type": "code",
   "execution_count": null,
   "id": "7e7b8691",
   "metadata": {},
   "outputs": [],
   "source": [
    "# Celda 7: Gráfico 3 - Boxplot: Precios por Tipo de Vehículo\n",
    "top_types = df['type'].value_counts().head(10).index\n",
    "df_top_types = df[df['type'].isin(top_types)]\n",
    "fig3 = px.box(\n",
    "    df_top_types,\n",
    "    x=\"type\",\n",
    "    y=\"price\",\n",
    "    title=\"Distribución de Precios por Tipo de Vehículo (Top 10)\",\n",
    "    labels={\"type\": \"Tipo de Vehículo\", \"price\": \"Precio (USD)\"}\n",
    ")\n",
    "fig3.show()"
   ]
  },
  {
   "cell_type": "code",
   "execution_count": null,
   "id": "68e1ae46",
   "metadata": {},
   "outputs": [],
   "source": [
    "# Celda 8: Correlación entre variables numéricas\n",
    "numeric_cols = ['price', 'odometer', 'model_year', 'cylinders', 'days_listed']\n",
    "corr_matrix = df[numeric_cols].corr()\n",
    "fig4 = go.Figure(data=go.Heatmap(\n",
    "    z=corr_matrix.values,\n",
    "    x=corr_matrix.columns,\n",
    "    y=corr_matrix.columns,\n",
    "    colorscale='Viridis',\n",
    "    text=corr_matrix.values.round(2),\n",
    "    texttemplate=\"%{text}\",\n",
    "    showscale=True\n",
    "))\n",
    "fig4.update_layout(title=\"Mapa de Calor de Correlaciones\")\n",
    "fig4.show()"
   ]
  },
  {
   "cell_type": "code",
   "execution_count": null,
   "id": "7cc17261",
   "metadata": {},
   "outputs": [],
   "source": [
    "# Celda 9: Resumen de hallazgos\n",
    "print(\"Resumen de Hallazgos:\")\n",
    "print(\"- El dataset tiene\", df.shape[0], \"filas y\", df.shape[1], \"columnas.\")\n",
    "print(\"- Columnas con más valores nulos: is_4wd (%.2f%%), odometer (%.2f%%), paint_color (%.2f%%).\" % \n",
    "      (nulls['is_4wd'], nulls['odometer'], nulls['paint_color']))\n",
    "print(\"- Precio vs. Kilometraje: Los vehículos más nuevos tienden a tener menor kilometraje y precios más altos.\")\n",
    "print(\"- Combustible: La mayoría de los vehículos son de gasolina, con precios variables por tipo de combustible.\")\n",
    "print(\"- Tipos de vehículos: Los precios varían significativamente según el tipo (SUV, sedan, etc.).\")\n",
    "print(\"- Correlaciones: Hay una correlación negativa moderada entre precio y kilometraje.\")"
   ]
  }
 ],
 "metadata": {
  "kernelspec": {
   "display_name": "venv",
   "language": "python",
   "name": "python3"
  },
  "language_info": {
   "codemirror_mode": {
    "name": "ipython",
    "version": 3
   },
   "file_extension": ".py",
   "mimetype": "text/x-python",
   "name": "python",
   "nbconvert_exporter": "python",
   "pygments_lexer": "ipython3",
   "version": "3.10.4"
  }
 },
 "nbformat": 4,
 "nbformat_minor": 5
}
